{
 "cells": [
  {
   "cell_type": "code",
   "execution_count": 20,
   "metadata": {},
   "outputs": [
    {
     "name": "stdout",
     "output_type": "stream",
     "text": [
      "223 216 217 237\n"
     ]
    }
   ],
   "source": [
    "with open('rosalind_dna.txt', 'r') as file:\n",
    "    s = file.read().rstrip()\n",
    "    def nucleotide_count(s):\n",
    "        a_count = 0\n",
    "        c_count = 0\n",
    "        g_count = 0\n",
    "        t_count = 0\n",
    "        for x in s:\n",
    "            if x == \"A\":\n",
    "                a_count += 1\n",
    "            if x == \"C\":\n",
    "                c_count += 1\n",
    "            if x == \"G\":\n",
    "                g_count += 1\n",
    "            if x  == \"T\":\n",
    "                t_count += 1\n",
    "        print (a_count, c_count, g_count, t_count)\n",
    "nucleotide_count(s)\n",
    "        "
   ]
  }
 ],
 "metadata": {
  "kernelspec": {
   "display_name": "Python 3",
   "language": "python",
   "name": "python3"
  },
  "language_info": {
   "codemirror_mode": {
    "name": "ipython",
    "version": 3
   },
   "file_extension": ".py",
   "mimetype": "text/x-python",
   "name": "python",
   "nbconvert_exporter": "python",
   "pygments_lexer": "ipython3",
   "version": "3.11.5"
  },
  "orig_nbformat": 4
 },
 "nbformat": 4,
 "nbformat_minor": 2
}
